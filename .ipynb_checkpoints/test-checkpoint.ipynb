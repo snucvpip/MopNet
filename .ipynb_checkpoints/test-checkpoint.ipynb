{
 "cells": [
  {
   "cell_type": "code",
   "execution_count": 10,
   "metadata": {},
   "outputs": [
    {
     "name": "stdout",
     "output_type": "stream",
     "text": [
      "Namespace(batchSize=2, dataroot='test', dataset='my_loader', imageSize=256, image_path='results', inputChannelSize=3, ndf=64, netE='mopnet/netEdge_epoch_150.pth', netG='mopnet/netG_epoch_150.pth', ngf=64, number=10, originalSize=256, outputChannelSize=3, pre='', record='default.txt', workers=1, write=1)\n",
      "Random Seed:  0\n",
      "HELLO\n"
     ]
    },
    {
     "name": "stderr",
     "output_type": "stream",
     "text": [
      "C:\\Users\\lucetre\\anaconda3\\lib\\site-packages\\torch\\cuda\\__init__.py:52: UserWarning: CUDA initialization: Found no NVIDIA driver on your system. Please check that you have an NVIDIA GPU and installed a driver from http://www.nvidia.com/Download/index.aspx (Triggered internally at  ..\\c10\\cuda\\CUDAFunctions.cpp:100.)\n",
      "  return torch._C._cuda_getDeviceCount() > 0\n"
     ]
    }
   ],
   "source": [
    "!python test.py --dataroot test  --netG mopnet/netG_epoch_150.pth --netE mopnet/netEdge_epoch_150.pth --batchSize 2 --originalSize  256 --imageSize 256 --image_path \"results\" --write 1"
   ]
  },
  {
   "cell_type": "code",
   "execution_count": 6,
   "metadata": {},
   "outputs": [],
   "source": [
    "from __future__ import print_function\n",
    "import argparse\n",
    "import os\n",
    "import sys\n",
    "import random\n",
    "import torch\n",
    "import torch.nn as nn\n",
    "import torch.nn.parallel\n",
    "import torch.backends.cudnn as cudnn\n",
    "cudnn.benchmark = True\n",
    "cudnn.fastest = True\n",
    "import torch.optim as optim\n",
    "import torchvision.utils as vutils\n",
    "from torch.autograd import Variable\n",
    "\n",
    "from misc import *\n",
    "import models.mopnet as net\n",
    "from models.vgg16 import Vgg16\n",
    "from myutils import utils\n",
    "from visualizer import Visualizer\n",
    "import time\n",
    "import torch.nn.functional as F\n",
    "import scipy.stats as st\n",
    "import datetime\n",
    "\n",
    "from PIL import Image\n",
    "import math\n",
    "import numpy as np\n",
    "import cv2\n",
    "from collections import OrderedDict"
   ]
  },
  {
   "cell_type": "code",
   "execution_count": 7,
   "metadata": {},
   "outputs": [],
   "source": [
    "val_dataloader = getLoader('my_loader',\n",
    "                       'test',\n",
    "                       256,\n",
    "                       256,\n",
    "                       2,\n",
    "                       1,\n",
    "                       mean=(0.5, 0.5, 0.5), std=(0.5, 0.5, 0.5),\n",
    "                       split='test',\n",
    "                       shuffle=False,\n",
    "                       seed=None, #opt.manualSeed,\n",
    "                       pre='')"
   ]
  },
  {
   "cell_type": "code",
   "execution_count": 8,
   "metadata": {},
   "outputs": [
    {
     "name": "stderr",
     "output_type": "stream",
     "text": [
      "C:\\Users\\lucetre\\anaconda3\\lib\\site-packages\\torch\\cuda\\__init__.py:52: UserWarning: CUDA initialization: Found no NVIDIA driver on your system. Please check that you have an NVIDIA GPU and installed a driver from http://www.nvidia.com/Download/index.aspx (Triggered internally at  ..\\c10\\cuda\\CUDAFunctions.cpp:100.)\n",
      "  return torch._C._cuda_getDeviceCount() > 0\n"
     ]
    }
   ],
   "source": [
    "device = torch.device(\"cuda:0\" if torch.cuda.is_available() else \"cpu\")"
   ]
  },
  {
   "cell_type": "code",
   "execution_count": 24,
   "metadata": {},
   "outputs": [],
   "source": [
    "target = torch.FloatTensor(2, 3, 256, 256)\n",
    "input = torch.FloatTensor(2, 3, 256, 256)\n",
    "target, input = target.to(device), input.to(device)"
   ]
  },
  {
   "cell_type": "code",
   "execution_count": 25,
   "metadata": {},
   "outputs": [
    {
     "data": {
      "text/plain": [
       "0"
      ]
     },
     "execution_count": 25,
     "metadata": {},
     "output_type": "execute_result"
    }
   ],
   "source": [
    "np.count_nonzero(target)"
   ]
  },
  {
   "cell_type": "code",
   "execution_count": null,
   "metadata": {},
   "outputs": [],
   "source": [
    "\n",
    "for i, data in enumerate(val_dataloader, 0):\n",
    "\n",
    "    input_cpu, target_cpu = data\n",
    "    batch_size = target_cpu.size(0)\n",
    "\n",
    "    # get paired data\n",
    "    target_cpu, input_cpu = target_cpu.float().to(device), input_cpu.float().to(device)\n",
    "    target.data.resize_as_(target_cpu).copy_(target_cpu)\n",
    "    input.data.resize_as_(input_cpu).copy_(input_cpu)"
   ]
  }
 ],
 "metadata": {
  "kernelspec": {
   "display_name": "Python 3",
   "language": "python",
   "name": "python3"
  },
  "language_info": {
   "codemirror_mode": {
    "name": "ipython",
    "version": 3
   },
   "file_extension": ".py",
   "mimetype": "text/x-python",
   "name": "python",
   "nbconvert_exporter": "python",
   "pygments_lexer": "ipython3",
   "version": "3.7.6"
  }
 },
 "nbformat": 4,
 "nbformat_minor": 4
}
